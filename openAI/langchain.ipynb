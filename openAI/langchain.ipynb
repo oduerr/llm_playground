{
 "cells": [
  {
   "attachments": {},
   "cell_type": "markdown",
   "metadata": {},
   "source": [
    "Loading a model from an API\n",
    "\n",
    "Here we load the gpt-3.5-turbo model, which is so much cheaper."
   ]
  },
  {
   "cell_type": "code",
   "execution_count": 10,
   "metadata": {},
   "outputs": [
    {
     "name": "stdout",
     "output_type": "stream",
     "text": [
      "\n",
      "\n",
      "\u001b[1m> Entering new LLMChain chain...\u001b[0m\n",
      "Prompt after formatting:\n",
      "\u001b[32;1m\u001b[1;3m\n",
      "Question: What is the capital of Finnland?\n",
      "Let's think step by step. Provide the answer to the question in the following way:\n",
      "Answer:\n",
      "\u001b[0m\n",
      "\n",
      "\u001b[1m> Finished chain.\u001b[0m\n",
      "The capital of Finland is Helsinki.\n"
     ]
    }
   ],
   "source": [
    "import os\n",
    "import openai\n",
    "from langchain.llms import OpenAI\n",
    "from langchain.chat_models import ChatOpenAI\n",
    " \n",
    "openai.api_key = os.environ[\"OPENAI_API_KEY\"]\n",
    "\n",
    "llm = ChatOpenAI(temperature=0.6, openai_api_key=openai.api_key,model_name=\"gpt-3.5-turbo\")\n",
    "llm\n",
    "from langchain import PromptTemplate, LLMChain\n",
    "\n",
    "template = \"\"\"\n",
    "Question: {question}\n",
    "Let's think step by step. Provide the answer to the question in the following way:\n",
    "Answer:\n",
    "\"\"\"\n",
    "\n",
    "prompt = PromptTemplate(template=template, input_variables=[\"question\"])\n",
    "\n",
    "llm_chain = LLMChain(prompt=prompt, \n",
    "                     llm=llm,\n",
    "                     verbose=True\n",
    "                     )\n",
    "\n",
    "question = \"What is the capital of Finnland?\"\n",
    "\n",
    "print(llm_chain.run(question))"
   ]
  },
  {
   "cell_type": "code",
   "execution_count": 4,
   "metadata": {},
   "outputs": [
    {
     "name": "stdout",
     "output_type": "stream",
     "text": [
      "\n",
      "\n",
      "\u001b[1m> Entering new LLMChain chain...\u001b[0m\n",
      "Prompt after formatting:\n",
      "\u001b[32;1m\u001b[1;3m\n",
      "Question: \n",
      "Oliver has 10 tennis balls. He loses 1 ball every 2 weeks, after 4 weeks he buys 2 packs each having 2 balls. \n",
      "How many balls does he have after 8 weeks? \n",
      "\n",
      "Let's think step by step. Provide the answer to the question in the following way:\n",
      "Answer:\n",
      "\u001b[0m\n",
      "\n",
      "\u001b[1m> Finished chain.\u001b[0m\n",
      "After 2 weeks, Oliver has 9 tennis balls.\n",
      "After 4 weeks, Oliver has 8 tennis balls.\n",
      "After buying 2 packs, Oliver has 12 tennis balls.\n",
      "After 6 weeks, Oliver has 11 tennis balls.\n",
      "After 8 weeks, Oliver has 10 tennis balls.\n",
      "Answer: Oliver has 10 tennis balls after 8 weeks.\n"
     ]
    }
   ],
   "source": [
    "print(llm_chain.run(\"\"\"\n",
    "Oliver has 10 tennis balls. He loses 1 ball every 2 weeks, after 4 weeks he buys 2 packs each having 2 balls. \n",
    "How many balls does he have after 8 weeks? \n",
    "\"\"\"))"
   ]
  },
  {
   "cell_type": "code",
   "execution_count": 5,
   "metadata": {},
   "outputs": [],
   "source": [
    "from langchain.agents import load_tools\n",
    "from langchain.agents import initialize_agent\n",
    "from langchain.llms import OpenAI\n",
    "import json"
   ]
  },
  {
   "cell_type": "code",
   "execution_count": 8,
   "metadata": {},
   "outputs": [
    {
     "name": "stdout",
     "output_type": "stream",
     "text": [
      "\n",
      "\n",
      "\u001b[1m> Entering new AgentExecutor chain...\u001b[0m\n",
      "\u001b[32;1m\u001b[1;3mI don't know who Natalie Bergman is or what band she is in, so I need to do some research.\n",
      "Action: Search\n",
      "Action Input: \"Natalie Bergman first album band\"\u001b[0m\n",
      "Observation: \u001b[36;1m\u001b[1;3mWild Belle has released three albums: Isles (2013), Dreamland (2016), and Everybody One of a Kind (2019). In 2019, Bergman's father and stepmother were killed ...\u001b[0m\n",
      "Thought:\u001b[32;1m\u001b[1;3mThat information doesn't answer the original question, I need to refine my search.\n",
      "Action: Search\n",
      "Action Input: \"Natalie Bergman debut album band\"\u001b[0m\n",
      "Observation: \u001b[36;1m\u001b[1;3mNatalie Bergman is an American singer-songwriter. She is one half of the duo Wild Belle, ... Her debut solo album, Mercy, was released on Third Man Records on May 7, ...\u001b[0m\n",
      "Thought:\u001b[32;1m\u001b[1;3mGreat, now I have the answer to the original question.\n",
      "Final Answer: Natalie Bergman's first album with her band Wild Belle was Isles, released in 2013.\u001b[0m\n",
      "\n",
      "\u001b[1m> Finished chain.\u001b[0m\n"
     ]
    }
   ],
   "source": [
    "serpapi_api_key = os.environ.get('SERP_API_KEY')\n",
    "toolkit = load_tools([\"serpapi\"], llm=llm, serpapi_api_key=serpapi_api_key)\n",
    "serapi = toolkit[0]\n",
    "serapi.description\n",
    "agent = initialize_agent(toolkit, llm, agent=\"zero-shot-react-description\", verbose=True, return_intermediate_steps=True)\n",
    "\n",
    "response = agent({\"input\":\"what was the first album of the\" \n",
    "                    \"band that Natalie Bergman is a part of?\"})"
   ]
  },
  {
   "cell_type": "code",
   "execution_count": null,
   "metadata": {},
   "outputs": [],
   "source": []
  }
 ],
 "metadata": {
  "kernelspec": {
   "display_name": ".venv",
   "language": "python",
   "name": "python3"
  },
  "language_info": {
   "codemirror_mode": {
    "name": "ipython",
    "version": 3
   },
   "file_extension": ".py",
   "mimetype": "text/x-python",
   "name": "python",
   "nbconvert_exporter": "python",
   "pygments_lexer": "ipython3",
   "version": "3.9.6"
  },
  "orig_nbformat": 4
 },
 "nbformat": 4,
 "nbformat_minor": 2
}
